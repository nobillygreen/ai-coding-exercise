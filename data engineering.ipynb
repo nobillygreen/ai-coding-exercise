{
 "cells": [
  {
   "cell_type": "code",
   "execution_count": 2,
   "metadata": {},
   "outputs": [
    {
     "name": "stderr",
     "output_type": "stream",
     "text": [
      "[nltk_data] Downloading package wordnet to\n",
      "[nltk_data]     /Users/noahbilgrien/nltk_data...\n",
      "[nltk_data]   Package wordnet is already up-to-date!\n"
     ]
    }
   ],
   "source": [
    "import nltk\n",
    "nltk.download('wordnet')\n",
    "from nltk.stem.wordnet import WordNetLemmatizer\n",
    "\n",
    "import tensorflow as tf\n",
    "from tensorflow import keras\n",
    "from tensorflow.keras.layers import LSTM, Dense\n",
    "from tensorflow.python.keras.utils import to_categorical\n",
    "\n",
    "from sklearn.feature_extraction.text import TfidfVectorizer\n",
    "import numpy as np\n",
    "\n",
    "import csv\n",
    "import string"
   ]
  },
  {
   "cell_type": "markdown",
   "metadata": {},
   "source": [
    "# Reading the data"
   ]
  },
  {
   "cell_type": "code",
   "execution_count": 3,
   "metadata": {},
   "outputs": [],
   "source": [
    "with open('Harvard_QA_dataset.csv', 'r') as f:\n",
    "    reader = csv.reader(f, delimiter=',', quotechar='\"')\n",
    "    data = [*reader]\n",
    "    \n",
    "    questions_raw = [row[0] for row in data]\n",
    "    answers_raw = [row[1] for row in data]"
   ]
  },
  {
   "cell_type": "markdown",
   "metadata": {},
   "source": [
    "# Cleaning the data\n",
    "\n",
    "Future work\n",
    "* Use google's Active Question Reformulation to generate alternate forms of the question\n",
    "\n",
    "## 1) removing punctuation"
   ]
  },
  {
   "cell_type": "code",
   "execution_count": 4,
   "metadata": {},
   "outputs": [],
   "source": [
    "table = str.maketrans({key: None for key in string.punctuation})\n",
    "def remove_punct(s):\n",
    "    return s.translate(table)"
   ]
  },
  {
   "cell_type": "markdown",
   "metadata": {},
   "source": [
    "# 2) converting to lowercase"
   ]
  },
  {
   "cell_type": "code",
   "execution_count": 5,
   "metadata": {},
   "outputs": [],
   "source": [
    "def lowercase(s):\n",
    "    return s.lower()"
   ]
  },
  {
   "cell_type": "markdown",
   "metadata": {},
   "source": [
    "# Stemming and lemmatization\n",
    "Reducing the dimensionality of the data\n",
    "\n",
    "Future work\n",
    "* Parse the sentence to get POS tagging and feed the POS into the lemmatizer"
   ]
  },
  {
   "cell_type": "code",
   "execution_count": 6,
   "metadata": {},
   "outputs": [],
   "source": [
    "lem = WordNetLemmatizer()\n",
    "\n",
    "def lemmatize_sentence(sentence):\n",
    "    return \" \".join([lem.lemmatize(w) for w in sentence.split(\" \")])"
   ]
  },
  {
   "cell_type": "code",
   "execution_count": 7,
   "metadata": {},
   "outputs": [],
   "source": [
    "def preprocess(sentence):\n",
    "    s = remove_punct(sentence)\n",
    "    s = lowercase(s)\n",
    "    s = lemmatize_sentence(s)\n",
    "    return s"
   ]
  },
  {
   "cell_type": "code",
   "execution_count": 8,
   "metadata": {},
   "outputs": [],
   "source": [
    "questions = [preprocess(s) for s in questions_raw]"
   ]
  },
  {
   "cell_type": "markdown",
   "metadata": {},
   "source": [
    "# Creating the embedded representation\n",
    "\n",
    "## 1) create the vocabulary"
   ]
  },
  {
   "cell_type": "code",
   "execution_count": 9,
   "metadata": {},
   "outputs": [],
   "source": [
    "from collections import defaultdict\n",
    "\n",
    "vocab = set()\n",
    "for q in questions:\n",
    "    for w in q.split(\" \"):\n",
    "        if w == \"\":\n",
    "            continue\n",
    "        vocab.add(w)\n",
    "\n",
    "vocab_size = len(vocab) + 1\n",
    "vocab_to_id = defaultdict(lambda: 0)\n",
    "id_to_vocab = {}\n",
    "for i, w in enumerate(vocab):\n",
    "    vocab_to_id[w] = i + 1"
   ]
  },
  {
   "cell_type": "markdown",
   "metadata": {},
   "source": [
    "## 2) create the encoding function"
   ]
  },
  {
   "cell_type": "code",
   "execution_count": 46,
   "metadata": {},
   "outputs": [],
   "source": [
    "def encode(sentence, length=128):\n",
    "    sentence = preprocess(sentence)\n",
    "    sentence = sentence.split(\" \")\n",
    "    encoding = np.zeros((length))\n",
    "    for i, word in enumerate(sentence):\n",
    "        if i >= 128:\n",
    "            break\n",
    "        encoding[i] = vocab_to_id[word]\n",
    "    return encoding\n",
    "\n",
    "def one_hot_encode(sentence, length=128):\n",
    "    sentence = preprocess(sentence)\n",
    "    sentence = sentence.split(\" \")\n",
    "    onehot = np.zeros((length, vocab_size))\n",
    "    for i, word in enumerate(sentence):\n",
    "        onehot[i, vocab_to_id[word]] = 1\n",
    "    return onehot"
   ]
  },
  {
   "cell_type": "markdown",
   "metadata": {},
   "source": [
    "# Assemble the training data"
   ]
  },
  {
   "cell_type": "code",
   "execution_count": 64,
   "metadata": {},
   "outputs": [],
   "source": [
    "X = np.array([encode(s) for s in questions_raw])\n",
    "y = np.array([encode(s) for s in answers_raw])"
   ]
  },
  {
   "cell_type": "markdown",
   "metadata": {},
   "source": [
    "# Build the model"
   ]
  },
  {
   "cell_type": "code",
   "execution_count": 65,
   "metadata": {},
   "outputs": [],
   "source": [
    "model = keras.Sequential()\n",
    "\n",
    "embedding = keras.layers.Embedding(vocab_size, 64, input_length=128)\n",
    "encoder = keras.layers.LSTM(64, return_sequences=True)\n",
    "decoder = keras.layers.LSTM(64, return_sequences=True)\n",
    "\n",
    "model.add(embedding)\n",
    "model.add(encoder)\n",
    "model.add(decoder)\n",
    "model.add(keras.layers.TimeDistributed(keras.layers.Dense(vocab_size)))\n",
    "model.add(keras.layers.Activation('softmax'))"
   ]
  },
  {
   "cell_type": "code",
   "execution_count": 66,
   "metadata": {},
   "outputs": [
    {
     "name": "stdout",
     "output_type": "stream",
     "text": [
      "_________________________________________________________________\n",
      "Layer (type)                 Output Shape              Param #   \n",
      "=================================================================\n",
      "embedding_9 (Embedding)      (None, 128, 64)           31360     \n",
      "_________________________________________________________________\n",
      "lstm_16 (LSTM)               (None, 128, 64)           33024     \n",
      "_________________________________________________________________\n",
      "lstm_17 (LSTM)               (None, 128, 64)           33024     \n",
      "_________________________________________________________________\n",
      "time_distributed_5 (TimeDist (None, 128, 490)          31850     \n",
      "_________________________________________________________________\n",
      "activation_8 (Activation)    (None, 128, 490)          0         \n",
      "=================================================================\n",
      "Total params: 129,258\n",
      "Trainable params: 129,258\n",
      "Non-trainable params: 0\n",
      "_________________________________________________________________\n"
     ]
    }
   ],
   "source": [
    "model.compile(\n",
    "    optimizer=tf.keras.optimizers.Adam(),\n",
    "    loss='categorical_crossentropy',\n",
    "    metrics=['accuracy']\n",
    ")\n",
    "model.summary()"
   ]
  },
  {
   "cell_type": "code",
   "execution_count": 68,
   "metadata": {
    "scrolled": true
   },
   "outputs": [
    {
     "ename": "ValueError",
     "evalue": "Error when checking target: expected activation_8 to have 3 dimensions, but got array with shape (215, 128)",
     "output_type": "error",
     "traceback": [
      "\u001b[0;31m---------------------------------------------------------------------------\u001b[0m",
      "\u001b[0;31mValueError\u001b[0m                                Traceback (most recent call last)",
      "\u001b[0;32m<ipython-input-68-9b89f3ec6087>\u001b[0m in \u001b[0;36m<module>\u001b[0;34m\u001b[0m\n\u001b[1;32m      2\u001b[0m     \u001b[0mX\u001b[0m\u001b[0;34m,\u001b[0m\u001b[0;34m\u001b[0m\u001b[0;34m\u001b[0m\u001b[0m\n\u001b[1;32m      3\u001b[0m     \u001b[0mX\u001b[0m\u001b[0;34m,\u001b[0m\u001b[0;34m\u001b[0m\u001b[0;34m\u001b[0m\u001b[0m\n\u001b[0;32m----> 4\u001b[0;31m     \u001b[0mepochs\u001b[0m\u001b[0;34m=\u001b[0m\u001b[0;36m2\u001b[0m\u001b[0;34m\u001b[0m\u001b[0;34m\u001b[0m\u001b[0m\n\u001b[0m\u001b[1;32m      5\u001b[0m )\n",
      "\u001b[0;32m/anaconda3/envs/admithub/lib/python3.6/site-packages/tensorflow/python/keras/engine/training.py\u001b[0m in \u001b[0;36mfit\u001b[0;34m(self, x, y, batch_size, epochs, verbose, callbacks, validation_split, validation_data, shuffle, class_weight, sample_weight, initial_epoch, steps_per_epoch, validation_steps, max_queue_size, workers, use_multiprocessing, **kwargs)\u001b[0m\n\u001b[1;32m   1534\u001b[0m         \u001b[0msteps_name\u001b[0m\u001b[0;34m=\u001b[0m\u001b[0;34m'steps_per_epoch'\u001b[0m\u001b[0;34m,\u001b[0m\u001b[0;34m\u001b[0m\u001b[0;34m\u001b[0m\u001b[0m\n\u001b[1;32m   1535\u001b[0m         \u001b[0msteps\u001b[0m\u001b[0;34m=\u001b[0m\u001b[0msteps_per_epoch\u001b[0m\u001b[0;34m,\u001b[0m\u001b[0;34m\u001b[0m\u001b[0;34m\u001b[0m\u001b[0m\n\u001b[0;32m-> 1536\u001b[0;31m         validation_split=validation_split)\n\u001b[0m\u001b[1;32m   1537\u001b[0m \u001b[0;34m\u001b[0m\u001b[0m\n\u001b[1;32m   1538\u001b[0m     \u001b[0;31m# Prepare validation data.\u001b[0m\u001b[0;34m\u001b[0m\u001b[0;34m\u001b[0m\u001b[0;34m\u001b[0m\u001b[0m\n",
      "\u001b[0;32m/anaconda3/envs/admithub/lib/python3.6/site-packages/tensorflow/python/keras/engine/training.py\u001b[0m in \u001b[0;36m_standardize_user_data\u001b[0;34m(self, x, y, sample_weight, class_weight, batch_size, check_steps, steps_name, steps, validation_split)\u001b[0m\n\u001b[1;32m    990\u001b[0m         \u001b[0mx\u001b[0m\u001b[0;34m,\u001b[0m \u001b[0my\u001b[0m\u001b[0;34m,\u001b[0m \u001b[0msample_weight\u001b[0m \u001b[0;34m=\u001b[0m \u001b[0mnext_element\u001b[0m\u001b[0;34m\u001b[0m\u001b[0;34m\u001b[0m\u001b[0m\n\u001b[1;32m    991\u001b[0m     x, y, sample_weights = self._standardize_weights(x, y, sample_weight,\n\u001b[0;32m--> 992\u001b[0;31m                                                      class_weight, batch_size)\n\u001b[0m\u001b[1;32m    993\u001b[0m     \u001b[0;32mreturn\u001b[0m \u001b[0mx\u001b[0m\u001b[0;34m,\u001b[0m \u001b[0my\u001b[0m\u001b[0;34m,\u001b[0m \u001b[0msample_weights\u001b[0m\u001b[0;34m\u001b[0m\u001b[0;34m\u001b[0m\u001b[0m\n\u001b[1;32m    994\u001b[0m \u001b[0;34m\u001b[0m\u001b[0m\n",
      "\u001b[0;32m/anaconda3/envs/admithub/lib/python3.6/site-packages/tensorflow/python/keras/engine/training.py\u001b[0m in \u001b[0;36m_standardize_weights\u001b[0;34m(self, x, y, sample_weight, class_weight, batch_size)\u001b[0m\n\u001b[1;32m   1152\u001b[0m           \u001b[0mfeed_output_shapes\u001b[0m\u001b[0;34m,\u001b[0m\u001b[0;34m\u001b[0m\u001b[0;34m\u001b[0m\u001b[0m\n\u001b[1;32m   1153\u001b[0m           \u001b[0mcheck_batch_axis\u001b[0m\u001b[0;34m=\u001b[0m\u001b[0;32mFalse\u001b[0m\u001b[0;34m,\u001b[0m  \u001b[0;31m# Don't enforce the batch size.\u001b[0m\u001b[0;34m\u001b[0m\u001b[0;34m\u001b[0m\u001b[0m\n\u001b[0;32m-> 1154\u001b[0;31m           exception_prefix='target')\n\u001b[0m\u001b[1;32m   1155\u001b[0m \u001b[0;34m\u001b[0m\u001b[0m\n\u001b[1;32m   1156\u001b[0m       \u001b[0;31m# Generate sample-wise weight values given the `sample_weight` and\u001b[0m\u001b[0;34m\u001b[0m\u001b[0;34m\u001b[0m\u001b[0;34m\u001b[0m\u001b[0m\n",
      "\u001b[0;32m/anaconda3/envs/admithub/lib/python3.6/site-packages/tensorflow/python/keras/engine/training_utils.py\u001b[0m in \u001b[0;36mstandardize_input_data\u001b[0;34m(data, names, shapes, check_batch_axis, exception_prefix)\u001b[0m\n\u001b[1;32m    321\u001b[0m                            \u001b[0;34m': expected '\u001b[0m \u001b[0;34m+\u001b[0m \u001b[0mnames\u001b[0m\u001b[0;34m[\u001b[0m\u001b[0mi\u001b[0m\u001b[0;34m]\u001b[0m \u001b[0;34m+\u001b[0m \u001b[0;34m' to have '\u001b[0m \u001b[0;34m+\u001b[0m\u001b[0;34m\u001b[0m\u001b[0;34m\u001b[0m\u001b[0m\n\u001b[1;32m    322\u001b[0m                            \u001b[0mstr\u001b[0m\u001b[0;34m(\u001b[0m\u001b[0mlen\u001b[0m\u001b[0;34m(\u001b[0m\u001b[0mshape\u001b[0m\u001b[0;34m)\u001b[0m\u001b[0;34m)\u001b[0m \u001b[0;34m+\u001b[0m \u001b[0;34m' dimensions, but got array '\u001b[0m\u001b[0;34m\u001b[0m\u001b[0;34m\u001b[0m\u001b[0m\n\u001b[0;32m--> 323\u001b[0;31m                            'with shape ' + str(data_shape))\n\u001b[0m\u001b[1;32m    324\u001b[0m         \u001b[0;32mif\u001b[0m \u001b[0;32mnot\u001b[0m \u001b[0mcheck_batch_axis\u001b[0m\u001b[0;34m:\u001b[0m\u001b[0;34m\u001b[0m\u001b[0;34m\u001b[0m\u001b[0m\n\u001b[1;32m    325\u001b[0m           \u001b[0mdata_shape\u001b[0m \u001b[0;34m=\u001b[0m \u001b[0mdata_shape\u001b[0m\u001b[0;34m[\u001b[0m\u001b[0;36m1\u001b[0m\u001b[0;34m:\u001b[0m\u001b[0;34m]\u001b[0m\u001b[0;34m\u001b[0m\u001b[0;34m\u001b[0m\u001b[0m\n",
      "\u001b[0;31mValueError\u001b[0m: Error when checking target: expected activation_8 to have 3 dimensions, but got array with shape (215, 128)"
     ]
    }
   ],
   "source": [
    "model.fit(\n",
    "    X,\n",
    "    X,\n",
    "    epochs=2\n",
    ")"
   ]
  },
  {
   "cell_type": "code",
   "execution_count": 14,
   "metadata": {},
   "outputs": [],
   "source": [
    "trained_encoder = keras.Sequential([\n",
    "    embedding,\n",
    "    encoder\n",
    "])"
   ]
  },
  {
   "cell_type": "code",
   "execution_count": 17,
   "metadata": {},
   "outputs": [],
   "source": [
    "output = model.predict(np.array([X[12]]))"
   ]
  },
  {
   "cell_type": "code",
   "execution_count": 18,
   "metadata": {},
   "outputs": [
    {
     "data": {
      "text/plain": [
       "array([0.00213578, 0.00204282, 0.00204018, 0.00203818, 0.00204271,\n",
       "       0.0020423 , 0.00203741, 0.0020354 , 0.0020338 , 0.00203398,\n",
       "       0.00207542, 0.0020351 , 0.00203524, 0.00204594, 0.00204224,\n",
       "       0.00203967, 0.00203117, 0.00204013, 0.00203694, 0.00204547,\n",
       "       0.00204741, 0.00204424, 0.00203958, 0.00204145, 0.00204056,\n",
       "       0.0020396 , 0.00203801, 0.00203601, 0.0020399 , 0.00203982,\n",
       "       0.00204174, 0.00203375, 0.00203445, 0.00204293, 0.00204878,\n",
       "       0.00204439, 0.00204126, 0.0020326 , 0.00205158, 0.00204121,\n",
       "       0.00204232, 0.00205911, 0.0020332 , 0.00203299, 0.00203442,\n",
       "       0.00204505, 0.00204459, 0.00203896, 0.00203502, 0.0020398 ,\n",
       "       0.00204497, 0.00203636, 0.00203661, 0.00204199, 0.0020393 ,\n",
       "       0.00204295, 0.00203745, 0.00204424, 0.00204622, 0.0020427 ,\n",
       "       0.00203543, 0.00203956, 0.00204635, 0.00204172, 0.00203976,\n",
       "       0.00203667, 0.00204454, 0.00203826, 0.00204585, 0.00204058,\n",
       "       0.00204407, 0.00202867, 0.00203954, 0.00204082, 0.00204452,\n",
       "       0.00203744, 0.00204689, 0.00203396, 0.00204018, 0.0020352 ,\n",
       "       0.00204592, 0.00203465, 0.0020387 , 0.00204659, 0.00203948,\n",
       "       0.00204187, 0.00207998, 0.00203657, 0.00203608, 0.0020333 ,\n",
       "       0.00203528, 0.00203929, 0.00204178, 0.00203862, 0.00204269,\n",
       "       0.00203634, 0.00204319, 0.0020367 , 0.00205801, 0.00204775,\n",
       "       0.00204901, 0.00204229, 0.00204228, 0.00203354, 0.00203453,\n",
       "       0.00204167, 0.00203473, 0.00204844, 0.00203605, 0.00204157,\n",
       "       0.00204297, 0.00204189, 0.00203949, 0.00204187, 0.00203844,\n",
       "       0.00204044, 0.00204208, 0.00205817, 0.00203451, 0.00203745,\n",
       "       0.00203612, 0.00204609, 0.00203438, 0.00204299, 0.00204358,\n",
       "       0.002037  , 0.00203877, 0.00204194, 0.00204376, 0.00204721,\n",
       "       0.00203834, 0.00204595, 0.00209918, 0.00203608, 0.0020504 ,\n",
       "       0.00204376, 0.00204184, 0.00203221, 0.00203434, 0.00203786,\n",
       "       0.00203911, 0.0020437 , 0.00203954, 0.00203863, 0.002044  ,\n",
       "       0.00204014, 0.00203744, 0.0020343 , 0.00204294, 0.00204658,\n",
       "       0.00203421, 0.0020402 , 0.00203808, 0.00204097, 0.00203934,\n",
       "       0.00203904, 0.0020431 , 0.00203908, 0.00204041, 0.002039  ,\n",
       "       0.00203438, 0.00204268, 0.00203768, 0.00204246, 0.00203382,\n",
       "       0.00203409, 0.00203802, 0.00203728, 0.0020379 , 0.00203437,\n",
       "       0.00204876, 0.00203674, 0.00203532, 0.00204811, 0.00203636,\n",
       "       0.00203769, 0.00204061, 0.00203365, 0.00204969, 0.00203947,\n",
       "       0.00204229, 0.00204595, 0.00204403, 0.00203794, 0.00204712,\n",
       "       0.00204113, 0.00204303, 0.00203314, 0.00203554, 0.00204018,\n",
       "       0.00204362, 0.00203914, 0.0020379 , 0.00204388, 0.00203883,\n",
       "       0.00204146, 0.00205074, 0.00204076, 0.00203786, 0.00204389,\n",
       "       0.00203779, 0.00203989, 0.00203773, 0.00204087, 0.00204266,\n",
       "       0.00203695, 0.0020408 , 0.00204157, 0.00203493, 0.00203766,\n",
       "       0.00204642, 0.00204279, 0.0020456 , 0.00203653, 0.00204155,\n",
       "       0.00204333, 0.00204046, 0.0020348 , 0.00203528, 0.00203459,\n",
       "       0.00205491, 0.0020461 , 0.00204317, 0.00204183, 0.00203433,\n",
       "       0.00203257, 0.00204081, 0.00203542, 0.00204307, 0.00205156,\n",
       "       0.00202904, 0.002046  , 0.00203227, 0.00203368, 0.00204141,\n",
       "       0.00204   , 0.00204087, 0.00203805, 0.00203666, 0.00203559,\n",
       "       0.00203879, 0.00204091, 0.00203919, 0.0020424 , 0.00204839,\n",
       "       0.00203855, 0.00203888, 0.00204284, 0.00204483, 0.00204302,\n",
       "       0.0020388 , 0.00204106, 0.0020465 , 0.00203448, 0.00204742,\n",
       "       0.0020371 , 0.00203399, 0.00204024, 0.00204356, 0.0020425 ,\n",
       "       0.00204039, 0.00203943, 0.00204477, 0.0020412 , 0.0020385 ,\n",
       "       0.0020412 , 0.00203747, 0.0020377 , 0.00203635, 0.00204462,\n",
       "       0.00203845, 0.00204636, 0.002041  , 0.00204928, 0.00203868,\n",
       "       0.00203596, 0.00204006, 0.00204355, 0.00204028, 0.00203683,\n",
       "       0.00203484, 0.00204326, 0.00203973, 0.00204457, 0.00204693,\n",
       "       0.00203357, 0.00204033, 0.00204436, 0.00203631, 0.00203067,\n",
       "       0.00204234, 0.00207235, 0.00204414, 0.00203199, 0.00203497,\n",
       "       0.00203996, 0.00204428, 0.00204284, 0.00204156, 0.00203665,\n",
       "       0.0020391 , 0.00203338, 0.00204302, 0.00203767, 0.00204147,\n",
       "       0.00204332, 0.00204159, 0.00204216, 0.00204474, 0.00203961,\n",
       "       0.00203714, 0.00203786, 0.00204123, 0.00203973, 0.00203489,\n",
       "       0.00204121, 0.00203921, 0.00205045, 0.00203279, 0.00203688,\n",
       "       0.00203704, 0.00203698, 0.00203302, 0.00203828, 0.00203961,\n",
       "       0.00203427, 0.00203517, 0.00204153, 0.00203511, 0.00204507,\n",
       "       0.00205068, 0.00203925, 0.00204083, 0.00204003, 0.00204565,\n",
       "       0.00204573, 0.00204164, 0.00203251, 0.00203794, 0.00204879,\n",
       "       0.00204399, 0.00204151, 0.00203953, 0.00203985, 0.00203858,\n",
       "       0.00203486, 0.0020358 , 0.00204006, 0.0020396 , 0.00203571,\n",
       "       0.00203192, 0.00203921, 0.00204327, 0.00203443, 0.00203631,\n",
       "       0.00203839, 0.00204148, 0.00205022, 0.00204517, 0.0020378 ,\n",
       "       0.00204299, 0.00204432, 0.00204623, 0.00204323, 0.00204407,\n",
       "       0.00204041, 0.0020408 , 0.0020418 , 0.00203862, 0.00203637,\n",
       "       0.00205138, 0.00204546, 0.00204199, 0.00204092, 0.00203238,\n",
       "       0.00204289, 0.00204307, 0.00203206, 0.00204473, 0.00203979,\n",
       "       0.00204067, 0.00204436, 0.00204136, 0.00204146, 0.0020344 ,\n",
       "       0.00202714, 0.00203829, 0.00203175, 0.00204693, 0.00203198,\n",
       "       0.00204076, 0.00204758, 0.00203673, 0.00204332, 0.00204582,\n",
       "       0.00203263, 0.00203653, 0.00203798, 0.00203708, 0.00204391,\n",
       "       0.00204098, 0.0020418 , 0.00204122, 0.00202892, 0.00204145,\n",
       "       0.00204626, 0.00204215, 0.00205363, 0.00204514, 0.00203884,\n",
       "       0.00204491, 0.00204644, 0.00203208, 0.00204289, 0.00204376,\n",
       "       0.00204169, 0.00203976, 0.00204009, 0.00203843, 0.002035  ,\n",
       "       0.00203556, 0.00204211, 0.00204991, 0.00203633, 0.00203895,\n",
       "       0.00203968, 0.00204755, 0.00204339, 0.00209507, 0.0020368 ,\n",
       "       0.00203564, 0.00203917, 0.0020408 , 0.00204019, 0.0020364 ,\n",
       "       0.00203954, 0.00203717, 0.00203576, 0.00203647, 0.00204658,\n",
       "       0.00203845, 0.00204025, 0.0020347 , 0.00204058, 0.00203585,\n",
       "       0.00203983, 0.00203602, 0.00204139, 0.00204174, 0.00203862,\n",
       "       0.00203674, 0.00206163, 0.0020411 , 0.00203861, 0.00203097,\n",
       "       0.00203745, 0.00203365, 0.00204258, 0.00203262, 0.00203847,\n",
       "       0.00204185, 0.00203704, 0.00204602, 0.00203854, 0.00204715,\n",
       "       0.00204071, 0.00204521, 0.00204436, 0.00203793, 0.00204175,\n",
       "       0.00204249, 0.00204495, 0.00202976, 0.00203854, 0.00204512,\n",
       "       0.00204092, 0.00203868, 0.00204297, 0.00204119, 0.00203699,\n",
       "       0.00203583, 0.00203944, 0.00203743, 0.00203302, 0.00204233,\n",
       "       0.00202534, 0.00203555, 0.00203949, 0.00203654, 0.00204321],\n",
       "      dtype=float32)"
      ]
     },
     "execution_count": 18,
     "metadata": {},
     "output_type": "execute_result"
    }
   ],
   "source": [
    "output[0][0]"
   ]
  },
  {
   "cell_type": "code",
   "execution_count": 19,
   "metadata": {},
   "outputs": [
    {
     "data": {
      "text/plain": [
       "array([205.,  14., 428., 242., 451., 235., 407., 132., 317.,  22.,   0.,\n",
       "         0.,   0.,   0.,   0.,   0.,   0.,   0.,   0.,   0.,   0.,   0.,\n",
       "         0.,   0.,   0.,   0.,   0.,   0.,   0.,   0.,   0.,   0.,   0.,\n",
       "         0.,   0.,   0.,   0.,   0.,   0.,   0.,   0.,   0.,   0.,   0.,\n",
       "         0.,   0.,   0.,   0.,   0.,   0.,   0.,   0.,   0.,   0.,   0.,\n",
       "         0.,   0.,   0.,   0.,   0.,   0.,   0.,   0.,   0.,   0.,   0.,\n",
       "         0.,   0.,   0.,   0.,   0.,   0.,   0.,   0.,   0.,   0.,   0.,\n",
       "         0.,   0.,   0.,   0.,   0.,   0.,   0.,   0.,   0.,   0.,   0.,\n",
       "         0.,   0.,   0.,   0.,   0.,   0.,   0.,   0.,   0.,   0.,   0.,\n",
       "         0.,   0.,   0.,   0.,   0.,   0.,   0.,   0.,   0.,   0.,   0.,\n",
       "         0.,   0.,   0.,   0.,   0.,   0.,   0.,   0.,   0.,   0.,   0.,\n",
       "         0.,   0.,   0.,   0.,   0.,   0.,   0.])"
      ]
     },
     "execution_count": 19,
     "metadata": {},
     "output_type": "execute_result"
    }
   ],
   "source": [
    "encode(\"How can I get a receipt for my application fee?\")"
   ]
  },
  {
   "cell_type": "code",
   "execution_count": 51,
   "metadata": {},
   "outputs": [
    {
     "data": {
      "text/plain": [
       "(1, 128)"
      ]
     },
     "execution_count": 51,
     "metadata": {},
     "output_type": "execute_result"
    }
   ],
   "source": [
    "np.array([X[0]]).shape"
   ]
  },
  {
   "cell_type": "code",
   "execution_count": 23,
   "metadata": {},
   "outputs": [
    {
     "data": {
      "text/plain": [
       "array([[ 41., 420., 289., ...,   0.,   0.,   0.],\n",
       "       [205., 220., 428., ...,   0.,   0.,   0.],\n",
       "       [ 14., 352., 200., ...,   0.,   0.,   0.],\n",
       "       ...,\n",
       "       [ 86., 117., 428., ...,   0.,   0.,   0.],\n",
       "       [ 86., 477., 117., ...,   0.,   0.,   0.],\n",
       "       [ 86., 477.,  10., ...,   0.,   0.,   0.]])"
      ]
     },
     "execution_count": 23,
     "metadata": {},
     "output_type": "execute_result"
    }
   ],
   "source": [
    "X"
   ]
  },
  {
   "cell_type": "code",
   "execution_count": 30,
   "metadata": {},
   "outputs": [],
   "source": [
    "y = to_categorical(X, num_classes=vocab_size)"
   ]
  },
  {
   "cell_type": "code",
   "execution_count": 31,
   "metadata": {},
   "outputs": [
    {
     "data": {
      "text/plain": [
       "array([[0., 0., 0., ..., 0., 0., 0.],\n",
       "       [0., 0., 0., ..., 0., 0., 0.],\n",
       "       [0., 0., 0., ..., 0., 0., 0.],\n",
       "       ...,\n",
       "       [1., 0., 0., ..., 0., 0., 0.],\n",
       "       [1., 0., 0., ..., 0., 0., 0.],\n",
       "       [1., 0., 0., ..., 0., 0., 0.]], dtype=float32)"
      ]
     },
     "execution_count": 31,
     "metadata": {},
     "output_type": "execute_result"
    }
   ],
   "source": [
    "y[0]"
   ]
  },
  {
   "cell_type": "code",
   "execution_count": 35,
   "metadata": {},
   "outputs": [
    {
     "data": {
      "text/plain": [
       "array([[ True,  True,  True, ...,  True,  True,  True],\n",
       "       [ True,  True,  True, ...,  True,  True,  True],\n",
       "       [ True,  True,  True, ...,  True,  True,  True],\n",
       "       ...,\n",
       "       [ True,  True,  True, ...,  True,  True,  True],\n",
       "       [ True,  True,  True, ...,  True,  True,  True],\n",
       "       [ True,  True,  True, ...,  True,  True,  True]])"
      ]
     },
     "execution_count": 35,
     "metadata": {},
     "output_type": "execute_result"
    }
   ],
   "source": [
    "y[1] == y[0]"
   ]
  },
  {
   "cell_type": "code",
   "execution_count": null,
   "metadata": {},
   "outputs": [],
   "source": []
  }
 ],
 "metadata": {
  "kernelspec": {
   "display_name": "Python 3",
   "language": "python",
   "name": "python3"
  },
  "language_info": {
   "codemirror_mode": {
    "name": "ipython",
    "version": 3
   },
   "file_extension": ".py",
   "mimetype": "text/x-python",
   "name": "python",
   "nbconvert_exporter": "python",
   "pygments_lexer": "ipython3",
   "version": "3.6.8"
  }
 },
 "nbformat": 4,
 "nbformat_minor": 2
}
